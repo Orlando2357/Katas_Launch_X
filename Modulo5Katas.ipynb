{
 "cells": [
  {
   "cell_type": "markdown",
   "metadata": {},
   "source": [
    "# Ejercicio1 - Utilizar operadores aritméticos"
   ]
  },
  {
   "cell_type": "code",
   "execution_count": 1,
   "metadata": {},
   "outputs": [
    {
     "name": "stdout",
     "output_type": "stream",
     "text": [
      "628949330\n",
      "390577533.93\n"
     ]
    }
   ],
   "source": [
    "Tierra = 149597870 # Distancia en Km\n",
    "Jupiter = 778547200 # Distancia en Km\n",
    "\n",
    "D1 = Jupiter-Tierra # Distancia entre Jupiter y la Tierra\n",
    "print(D1)\n",
    "print(D1*0.621)"
   ]
  },
  {
   "cell_type": "markdown",
   "metadata": {},
   "source": [
    "# Ejercicio 2: convierte cadenas en números y usa valores absolutos"
   ]
  },
  {
   "cell_type": "code",
   "execution_count": 2,
   "metadata": {},
   "outputs": [
    {
     "name": "stdout",
     "output_type": "stream",
     "text": [
      "Distancia entre los planetas:  7831 Km\n",
      "Distancia entre los planetas:  4863.051 millas\n"
     ]
    }
   ],
   "source": [
    "Planeta_1 = int(input(\"Introduzca el valor de la distancia al sol del primer planeta\"))\n",
    "Planeta_2 = int(input(\"Introduzca el valor de la distancia al sol del segundo planeta\"))\n",
    "\n",
    "D = abs(Planeta_1 - Planeta_2)\n",
    "\n",
    "print(\"Distancia entre los planetas: \",D,\"Km\")\n",
    "print(\"Distancia entre los planetas: \",D*0.621,\"millas\")"
   ]
  }
 ],
 "metadata": {
  "interpreter": {
   "hash": "b89b5cfaba6639976dc87ff2fec6d58faec662063367e2c229c520fe71072417"
  },
  "kernelspec": {
   "display_name": "Python 3.10.2 64-bit",
   "language": "python",
   "name": "python3"
  },
  "language_info": {
   "codemirror_mode": {
    "name": "ipython",
    "version": 3
   },
   "file_extension": ".py",
   "mimetype": "text/x-python",
   "name": "python",
   "nbconvert_exporter": "python",
   "pygments_lexer": "ipython3",
   "version": "3.10.2"
  },
  "orig_nbformat": 4
 },
 "nbformat": 4,
 "nbformat_minor": 2
}
