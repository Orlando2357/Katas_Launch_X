{
 "cells": [
  {
   "cell_type": "markdown",
   "metadata": {},
   "source": [
    "# Ejercicio: Uso de funciones en Python"
   ]
  },
  {
   "cell_type": "code",
   "execution_count": 8,
   "metadata": {},
   "outputs": [
    {
     "name": "stdout",
     "output_type": "stream",
     "text": [
      "Reporte de tanques\n",
      "    Tanque 1: 1%\n",
      "    Tanque 2: 4%\n",
      "    Tanque 3: 1%\n",
      "    Promedio de tanques: 2.0\n"
     ]
    }
   ],
   "source": [
    "def prom_tank(tan1,tan2,tan3):\n",
    "    prom = (tan1 + tan2 + tan3)/3\n",
    "    reporte = \"\"\"Reporte de tanques\n",
    "    Tanque 1: {}%\n",
    "    Tanque 2: {}%\n",
    "    Tanque 3: {}%\n",
    "    Promedio de tanques: {}\"\"\".format(tan1,tan2,tan3,prom)\n",
    "    return reporte\n",
    "\n",
    "print(prom_tank(1,4,1))\n"
   ]
  },
  {
   "cell_type": "code",
   "execution_count": 3,
   "metadata": {},
   "outputs": [],
   "source": [
    "# Función promedio \n",
    "def F_prom(val):\n",
    "    total = sum(val)\n",
    "    num_val = len(val)\n",
    "    prom = total/num_val\n",
    "    return prom\n"
   ]
  },
  {
   "cell_type": "code",
   "execution_count": 9,
   "metadata": {},
   "outputs": [
    {
     "name": "stdout",
     "output_type": "stream",
     "text": [
      "Reporte de tanques\n",
      "    Tanque 1: 70%\n",
      "    Tanque 2: 40%\n",
      "    Tanque 3: 35%\n",
      "    Promedio de tanques: 48.333333333333336%\n"
     ]
    }
   ],
   "source": [
    "def prom_tank(tan1,tan2,tan3):\n",
    "    prom = F_prom([tan1,tan2,tan3])\n",
    "    reporte = \"\"\"Reporte de tanques\n",
    "    Tanque 1: {}%\n",
    "    Tanque 2: {}%\n",
    "    Tanque 3: {}%\n",
    "    Promedio de tanques: {}%\"\"\".format(tan1,tan2,tan3,prom)\n",
    "    return reporte\n",
    "\n",
    "print(prom_tank(70,40,35))"
   ]
  }
 ],
 "metadata": {
  "interpreter": {
   "hash": "b89b5cfaba6639976dc87ff2fec6d58faec662063367e2c229c520fe71072417"
  },
  "kernelspec": {
   "display_name": "Python 3.10.2 64-bit",
   "language": "python",
   "name": "python3"
  },
  "language_info": {
   "codemirror_mode": {
    "name": "ipython",
    "version": 3
   },
   "file_extension": ".py",
   "mimetype": "text/x-python",
   "name": "python",
   "nbconvert_exporter": "python",
   "pygments_lexer": "ipython3",
   "version": "3.10.2"
  },
  "orig_nbformat": 4
 },
 "nbformat": 4,
 "nbformat_minor": 2
}
