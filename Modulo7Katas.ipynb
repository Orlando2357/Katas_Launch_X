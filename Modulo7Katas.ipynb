{
 "cells": [
  {
   "cell_type": "markdown",
   "metadata": {},
   "source": [
    "# Ejercicio 1: Creación de un bucle \"while\""
   ]
  },
  {
   "cell_type": "code",
   "execution_count": null,
   "metadata": {},
   "outputs": [],
   "source": [
    "dat_planeta = ''\n",
    "Lst_planetas = []\n",
    "\n",
    "while dat_planeta.lower() != 'done':\n",
    "    if dat_planeta:\n",
    "        Lst_planetas.append(dat_planeta)\n",
    "    dat_planeta = input('Ingrese un nuevo planeta')\n",
    "\n",
    "print('La lista de planetas ingresados es la siguiente:')\n",
    "for dat in Lst_planetas:\n",
    "    print('-',dat)"
   ]
  },
  {
   "cell_type": "markdown",
   "metadata": {},
   "source": [
    "# Ejercicio 2: Creación de un ciclo \"for\""
   ]
  },
  {
   "cell_type": "code",
   "execution_count": 3,
   "metadata": {},
   "outputs": [
    {
     "name": "stdout",
     "output_type": "stream",
     "text": [
      "La lista de planetas ingresados es la siguiente:\n",
      "- jsdch\n",
      "- jdshv\n",
      "- dhfg\n",
      "- dhcbv\n"
     ]
    }
   ],
   "source": [
    "print('La lista de planetas ingresados es la siguiente:')\n",
    "for dat in Lst_planetas:\n",
    "    print('-',dat)"
   ]
  }
 ],
 "metadata": {
  "interpreter": {
   "hash": "b89b5cfaba6639976dc87ff2fec6d58faec662063367e2c229c520fe71072417"
  },
  "kernelspec": {
   "display_name": "Python 3.10.2 64-bit",
   "language": "python",
   "name": "python3"
  },
  "language_info": {
   "codemirror_mode": {
    "name": "ipython",
    "version": 3
   },
   "file_extension": ".py",
   "mimetype": "text/x-python",
   "name": "python",
   "nbconvert_exporter": "python",
   "pygments_lexer": "ipython3",
   "version": "3.10.2"
  },
  "orig_nbformat": 4
 },
 "nbformat": 4,
 "nbformat_minor": 2
}
