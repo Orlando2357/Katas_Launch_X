{
 "cells": [
  {
   "cell_type": "markdown",
   "metadata": {},
   "source": [
    "# Ejercicio1: Crear y usar listas de Python"
   ]
  },
  {
   "cell_type": "code",
   "execution_count": 12,
   "metadata": {},
   "outputs": [
    {
     "name": "stdout",
     "output_type": "stream",
     "text": [
      "El nuemro de planetas en el sistema solar es:  8\n",
      "Estos son:  ['Mercurio', 'Venus', 'Tierra', 'Marte', 'Jupiter', 'Saturno', 'Urano', 'Neptuno']\n"
     ]
    }
   ],
   "source": [
    "Planetas = ['Mercurio', 'Venus', 'Tierra', 'Marte', 'Jupiter', 'Saturno', 'Urano', 'Neptuno']\n",
    "\n",
    "print(\"El nuemro de planetas en el sistema solar es: \",len(Planetas))\n",
    "print(\"Estos son: \",Planetas)"
   ]
  },
  {
   "cell_type": "code",
   "execution_count": 11,
   "metadata": {},
   "outputs": [
    {
     "name": "stdout",
     "output_type": "stream",
     "text": [
      "El nuemro de planetas en el sistema solar es:  9\n",
      "Estos son:  ['Mercurio', 'Venus', 'Tierra', 'Marte', 'Jupiter', 'Saturno', 'Urano', 'Neptuno', 'Pluton']\n"
     ]
    }
   ],
   "source": [
    "Planetas.append('Pluton')\n",
    "\n",
    "print(\"El nuemro de planetas en el sistema solar es: \",len(Planetas))\n",
    "print(\"Estos son: \",Planetas)"
   ]
  },
  {
   "cell_type": "markdown",
   "metadata": {},
   "source": [
    "# Ejercicio 2: Trabajando con datos de una lista"
   ]
  },
  {
   "cell_type": "code",
   "execution_count": 88,
   "metadata": {},
   "outputs": [
    {
     "name": "stdout",
     "output_type": "stream",
     "text": [
      "Los planetas mas cercanos al sol antes de Venus son:\n",
      "Mercurio\n",
      "En este orden correspondiente\n"
     ]
    }
   ],
   "source": [
    "import numpy as np\n",
    "\n",
    "Planetas = ['Mercurio', 'Venus', 'Tierra', 'Marte', 'Jupiter', 'Saturno', 'Urano', 'Neptuno']       # Lista de planetas del sistema solar\n",
    "Planeta_user = input('Ingrese el nombre de un planeta del sistema solar, comenzando con mayuscula') # Planeta ingresado por el usuario\n",
    "\n",
    "lst = np.array(Planetas)                                                                            # Transformamos la lista en un array para despues corroborar si el dato esta en la lista\n",
    "result = np.where(lst == Planeta_user)                                                              # Comprobamos si el dato esta en el array, cuando el dato no esta en la lista la funcion where no devuelve nada\n",
    "\n",
    "if len(result[0]) != 0:                                                                             # Corroboramos si el dato fue encontrado\n",
    "    if Planeta_user == 'Mercurio':                                                                       # Si el planeta ingresado es el mas cercano (Mercurio) ya no hay mas planetas para mostrar \n",
    "        print('Mercurio es el planeta mas cercano al sol')\n",
    "    else:                                                                                               # Imprimimos la lista de planetas mas cercanos \n",
    "        print('Los planetas mas cercanos al sol antes de',Planeta_user,'son:')\n",
    "        for Planet in Planetas[0:result[0][0]]:\n",
    "            print(Planet)\n",
    "        print('En este orden correspondiente')\n",
    "else:                                                                                               # El daton no fue encontrado en la lista, puede estar mal escrito o no ser un planeta del sistema solar\n",
    "    print('Planeta no encontrado, vuelve a intentarlo')"
   ]
  },
  {
   "cell_type": "markdown",
   "metadata": {},
   "source": [
    "Mostrar planetas más cercanos al sol que el que el usuario ingresó"
   ]
  },
  {
   "cell_type": "code",
   "execution_count": 84,
   "metadata": {},
   "outputs": [
    {
     "name": "stdout",
     "output_type": "stream",
     "text": [
      "Los planetas mas lejanos al sol antes de Mercurio son:\n",
      "Venus\n",
      "Tierra\n",
      "Marte\n",
      "Jupiter\n",
      "Saturno\n",
      "Urano\n",
      "Neptuno\n",
      "En este orden correspondiente\n"
     ]
    }
   ],
   "source": [
    "import numpy as np\n",
    "\n",
    "Planetas = ['Mercurio', 'Venus', 'Tierra', 'Marte', 'Jupiter', 'Saturno', 'Urano', 'Neptuno']       # Lista de planetas del sistema solar\n",
    "Planeta_user = input('Ingrese el nombre de un planeta del sistema solar, comenzando con mayuscula') # Planeta ingresado por el usuario\n",
    "\n",
    "lst = np.array(Planetas)                                                                            # Transformamos la lista en un array para despues corroborar si el dato esta en la lista\n",
    "result = np.where(lst == Planeta_user)                                                              # Comprobamos si el dato esta en el array, cuando el dato no esta en la lista la funcion where no devuelve nada\n",
    "\n",
    "if len(result[0]) != 0:                                                                             # Corroboramos si el dato fue encontrado\n",
    "    if Planeta_user == 'Neptuno':                                                                       # Si el planeta ingresado es el mas lejano (Neptuno) ya no hay mas planetas para mostrar \n",
    "        print('Neptuno es el planeta mas lejano al sol')\n",
    "    else:                                                                                               # Imprimimos la lista de planetas mas lejanos \n",
    "        print('Los planetas mas lejanos al sol antes de',Planeta_user,'son:')\n",
    "        for Planet in Planetas[result[0][0]+1:8]:\n",
    "            print(Planet)\n",
    "        print('En este orden correspondiente')\n",
    "else:                                                                                               # El daton no fue encontrado en la lista, puede estar mal escrito o no ser un planeta del sistema solar\n",
    "    print('Planeta no encontrado, vuelve a intentarlo')"
   ]
  }
 ],
 "metadata": {
  "interpreter": {
   "hash": "b89b5cfaba6639976dc87ff2fec6d58faec662063367e2c229c520fe71072417"
  },
  "kernelspec": {
   "display_name": "Python 3.10.2 64-bit",
   "language": "python",
   "name": "python3"
  },
  "language_info": {
   "codemirror_mode": {
    "name": "ipython",
    "version": 3
   },
   "file_extension": ".py",
   "mimetype": "text/x-python",
   "name": "python",
   "nbconvert_exporter": "python",
   "pygments_lexer": "ipython3",
   "version": "3.10.2"
  },
  "orig_nbformat": 4
 },
 "nbformat": 4,
 "nbformat_minor": 2
}
